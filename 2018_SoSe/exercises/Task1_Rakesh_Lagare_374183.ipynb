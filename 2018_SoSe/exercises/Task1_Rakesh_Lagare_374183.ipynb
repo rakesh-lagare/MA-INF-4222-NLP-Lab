{
 "cells": [
  {
   "cell_type": "markdown",
   "metadata": {},
   "source": [
    "<h1> NLP Exercise 01 </h1>"
   ]
  },
  {
   "cell_type": "markdown",
   "metadata": {},
   "source": [
    "<h3>Submitted By : Rakesh Lagare (374183)</h3>"
   ]
  },
  {
   "cell_type": "markdown",
   "metadata": {},
   "source": [
    "<h4> Helper Functions </h4>"
   ]
  },
  {
   "cell_type": "code",
   "execution_count": 19,
   "metadata": {},
   "outputs": [],
   "source": [
    "import nltk\n",
    "from nltk import word_tokenize, pos_tag\n",
    "\n",
    "\n",
    "def features(sentence, index):\n",
    "    return {\n",
    "        'word': sentence[index],\n",
    "        'is_capitalized': sentence[index][0].upper() == sentence[index][0],\n",
    "        'prefix-1': sentence[index][0],\n",
    "        'suffix-1': sentence[index][-1],\n",
    "        'prev_word': '' if index == 0 else sentence[index - 1],\n",
    "        'next_word': '' if index == len(sentence) - 1 else sentence[index + 1]\n",
    "    }\n",
    "\n",
    "\n",
    "def untag(tagged_sentence):\n",
    "    return [w for w, t in tagged_sentence]\n",
    "\n",
    "\n",
    "def transform_to_dataset(tagged_sentences):\n",
    "    X, y = [], []\n",
    "    for tagged in tagged_sentences:\n",
    "        for index in range(len(tagged)):\n",
    "            X.append(features(untag(tagged), index))\n",
    "            y.append(tagged[index][1])\n",
    " \n",
    "    return X, y\n",
    "\n",
    "\n"
   ]
  },
  {
   "cell_type": "markdown",
   "metadata": {},
   "source": [
    "<h4>Corpus - Dataset Preparation </h4>"
   ]
  },
  {
   "cell_type": "code",
   "execution_count": 21,
   "metadata": {},
   "outputs": [],
   "source": [
    "#nltk.corpus.treebank.tagged_sents()\n",
    "X1_treebank = nltk.corpus.treebank.tagged_sents()\n",
    "X2_Brown = nltk.corpus.brown.tagged_sents()\n",
    "X3_Language = nltk.corpus.indian.tagged_sents('marathi.pos')\n",
    "\n",
    "X1_size = int(.75 * len(X1_treebank))\n",
    "X1_train = X1_treebank[:X1_size]\n",
    "X1_test = X1_treebank[X1_size:]\n",
    "\n",
    "X2_size = int(.75 * len(X2_Brown))\n",
    "X2_train = X2_Brown[:X2_size]\n",
    "X2_test = X2_Brown[X2_size:]\n",
    "\n",
    "X3_size = int(.8 * len(X3_Language))\n",
    "X3_train = X3_Language[:X3_size]\n",
    "X3_test = X3_Language[X3_size:]\n",
    "\n",
    "X1 = nltk.corpus.treebank\n",
    "X2 = nltk.corpus.brown\n",
    "X3 = nltk.corpus.indian\n"
   ]
  },
  {
   "cell_type": "markdown",
   "metadata": {},
   "source": [
    "<h4> Perpormance Measurement </h4>"
   ]
  },
  {
   "cell_type": "code",
   "execution_count": 73,
   "metadata": {},
   "outputs": [],
   "source": [
    "from sklearn.tree  import DecisionTreeClassifier\n",
    "from sklearn.feature_extraction import DictVectorizer\n",
    "from sklearn.pipeline import Pipeline\n",
    "\n",
    "\n",
    "def  model1_accuracy(dataset,name,model_number):\n",
    "    print(f\"Wait,training .... Model{model_number} in {name}... \" )\n",
    "    size=10000\n",
    "    \n",
    "    X_train, y_train = transform_to_dataset(dataset)\n",
    "\n",
    "    clf = Pipeline([ ('vectorizer', DictVectorizer(sparse=False)),\n",
    "    ('classifier', DecisionTreeClassifier(criterion='entropy'))\n",
    "    ])\n",
    "\n",
    "    clf.fit(X_train[:size], y_train[:size]) \n",
    "    X_test, y_test = transform_to_dataset(dataset)\n",
    "\n",
    "    accuracy=clf.score(X_test, y_test)\n",
    "    print (\"Done\")\n",
    "    return accuracy\n",
    "\n",
    "\n",
    "def model2_accuracy(dataset,name):\n",
    "    print(f\"Wait,training .... Model2 in {name}... \" )\n",
    "    sents = dataset.sents()\n",
    "    X_pred, y_pred = transform_to_dataset(nltk.pos_tag_sents(sents))\n",
    "    X, y = transform_to_dataset(dataset.tagged_sents())\n",
    "    total_count = len(y)\n",
    "    match_count = 0\n",
    "    for i in range(total_count):\n",
    "        if y[i] == y_pred[i]:\n",
    "            match_count += 1\n",
    "    print (\"Done\")\n",
    "    return match_count * 1.0/total_count\n",
    "\n",
    "\n",
    "from nltk import DefaultTagger as df\n",
    "from nltk import UnigramTagger as ut\n",
    "from nltk import BigramTagger as bt\n",
    "from nltk import TrigramTagger as tg\n",
    "\n",
    "\n",
    "\n",
    "patterns = [(r'.*ing$', 'VBG'), (r'.*ed$', 'VBD'),  (r'.*es$', 'VBZ'), \n",
    "            (r'.*ould$', 'MD'), (r'.*\\'s$', 'NN$'), (r'.*s$', 'NNS'), \n",
    "            (r'^-?[0-9]+(.[0-9]+)?$', 'CD'), (r'.*', 'NN')]\n",
    "\n",
    "def model3_x1_accuracy(tagged_sents):\n",
    "    \n",
    "    \n",
    "    \n",
    "def model3_x2_accuracy(tagged_sents):\n",
    "    size = int(len(tagged_sents) * 0.8)\n",
    "    train_sents = tagged_sents[:size]\n",
    "    test_sents = tagged_sents[size:]\n",
    "    \n",
    "    accuracy1_6_1_x2= nltk.DefaultTagger('NN').evaluate(train_sents)\n",
    "    accuracy1_6_2_x2= nltk.UnigramTagger(train_sents).evaluate(train_sents)\n",
    "    accuracy1_6_3_x2 = nltk.BigramTagger(train_sents).evaluate(train_sents)\n",
    "    accuracy1_6_4_x2 = nltk.TrigramTagger(train_sents).evaluate(train_sents)\n",
    "    accuracy1_6_5_x2 = nltk.RegexpTagger(patterns).evaluate(train_sents)\n",
    "    \n",
    "    \n",
    "    print(\"\\n Default Tagger accuracy :\" ,accuracy1_6_1_x2)\n",
    "    print(\"\\n Unigram Tagger accuracy on :\",accuracy1_6_2_x2)\n",
    "    print(\"\\n Bigram Tagger accuracy on :\",accuracy1_6_3_x2)\n",
    "    print(\"\\n Trigram Tagger accuracy on :\",accuracy1_6_4_x2)\n",
    "    print(\"\\n RegEx Tagger accuracy on :\",accuracy1_6_5_x2)   \n",
    "    \n",
    "    "
   ]
  },
  {
   "cell_type": "markdown",
   "metadata": {},
   "source": [
    "<h2>Task 01 </h2>"
   ]
  },
  {
   "cell_type": "markdown",
   "metadata": {},
   "source": [
    "<h4>Performance 1.1  ---------    Model-1 in X1 </h4>"
   ]
  },
  {
   "cell_type": "code",
   "execution_count": 55,
   "metadata": {},
   "outputs": [
    {
     "name": "stdout",
     "output_type": "stream",
     "text": [
      "Wait,training .... Model1 in X1... \n",
      "Done\n",
      "Accuracy for Model1 in X1:  0.619474643297577\n"
     ]
    }
   ],
   "source": [
    "accuracy1_1_x1 = model1_accuracy(X1_treebank, 'X1',1)\n",
    "print('Accuracy for Model1 in X1: ', accuracy)"
   ]
  },
  {
   "cell_type": "markdown",
   "metadata": {},
   "source": [
    "<h4>Performance 1.2 --------- Model-2 in X1 </h4>"
   ]
  },
  {
   "cell_type": "code",
   "execution_count": 60,
   "metadata": {},
   "outputs": [
    {
     "name": "stdout",
     "output_type": "stream",
     "text": [
      "Wait,training .... Model2 in X1... \n",
      "Done\n",
      "Accuracy Model2 in X1: 8.169539618527322\n"
     ]
    }
   ],
   "source": [
    "accuracy1_2_x1 = model2_accuracy(X1,'X1')\n",
    "print(\"Accuracy Model2 in X1:\", accuracy)"
   ]
  },
  {
   "cell_type": "markdown",
   "metadata": {},
   "source": [
    "<h4>Performance 1.3.X --------- Model-3 in X1 </h4>"
   ]
  },
  {
   "cell_type": "code",
   "execution_count": 82,
   "metadata": {},
   "outputs": [
    {
     "name": "stdout",
     "output_type": "stream",
     "text": [
      "Accuracy for Model3 in X1: \n",
      "\n",
      " Default Tagger accuracy : 0.12729888264692388\n",
      "\n",
      " Unigram Tagger accuracy on : 0.9597455262472562\n",
      "\n",
      " Bigram Tagger accuracy on : 0.9118146756451753\n",
      "\n",
      " Trigram Tagger accuracy on : 0.9085531455783326\n",
      "\n",
      " RegEx Tagger accuracy on : 0.2138472413408237\n"
     ]
    }
   ],
   "source": [
    "print('Accuracy for Model3 in X1: ')\n",
    "\n",
    "size = int(len(X1_treebank) * 0.8)\n",
    "train_sents = X1_treebank[:size]\n",
    "test_sents = X1_treebank[size:]\n",
    "    \n",
    "accuracy1_3_1_x1= nltk.DefaultTagger('NN').evaluate(train_sents)\n",
    "accuracy1_3_2_x1= nltk.UnigramTagger(train_sents).evaluate(train_sents)\n",
    "accuracy1_3_3_x1 = nltk.BigramTagger(train_sents).evaluate(train_sents)\n",
    "accuracy1_3_4_x1 = nltk.TrigramTagger(train_sents).evaluate(train_sents)\n",
    "accuracy1_3_5_x1 = nltk.RegexpTagger(patterns).evaluate(train_sents)\n",
    "    \n",
    "    \n",
    "print(\"\\n Default Tagger accuracy :\" ,accuracy1_3_1_x1)\n",
    "print(\"\\n Unigram Tagger accuracy on :\",accuracy1_3_2_x1)\n",
    "print(\"\\n Bigram Tagger accuracy on :\",accuracy1_3_3_x1)\n",
    "print(\"\\n Trigram Tagger accuracy on :\",accuracy1_3_4_x1)\n",
    "print(\"\\n RegEx Tagger accuracy on :\",accuracy1_3_5_x1)"
   ]
  },
  {
   "cell_type": "markdown",
   "metadata": {},
   "source": [
    "<h4>Performance 1.4 --------- Model-1 in X2 </h4>"
   ]
  },
  {
   "cell_type": "code",
   "execution_count": 58,
   "metadata": {},
   "outputs": [
    {
     "name": "stdout",
     "output_type": "stream",
     "text": [
      "Wait,training .... Model1 in X2(0:5734)... \n",
      "Done\n",
      "Wait,training .... Model1 in X2(5734:11468)... \n",
      "Done\n",
      "Wait,training .... Model1 in X2(11468:17202)... \n",
      "Done\n",
      "Wait,training .... Model1 in X2(17202:22936)... \n",
      "Done\n",
      "Wait,training .... Model1 in X2(22936:28670)... \n",
      "Done\n",
      "Wait,training .... Model1 in X2(28670:34404)... \n",
      "Done\n",
      "Wait,training .... Model1 in X2(34404:40138)... \n",
      "Done\n",
      "Wait,training .... Model1 in X2(40138:45872)... \n",
      "Done\n",
      "Wait,training .... Model1 in X2(45872:51606)... \n",
      "Done\n",
      "Wait,training .... Model1 in X2(51606:57340)... \n",
      "Done\n",
      "Accuracy for Model1 in X2:  8.169539618527322\n"
     ]
    }
   ],
   "source": [
    "pieces  =  10\n",
    "accuracy = 0\n",
    "l1 = 0\n",
    "for i in range(1,pieces+1):\n",
    "    l2 = int(len(X2_Brown) * i * 1.0/pieces)\n",
    "    accuracy += model1_accuracy(X2_Brown[l1:l2], \"X2(\"+str(l1)+\":\"+str(l2)+\")\",1)\n",
    "    l1 = l2\n",
    "\n",
    "accuracy1_4_x2 = 1.0 * accuracy/pieces\n",
    "print('Accuracy for Model1 in X2: ', accuracy)"
   ]
  },
  {
   "cell_type": "markdown",
   "metadata": {},
   "source": [
    "<h4>Performance 1.5 --------- Model-2 in X2 </h4>"
   ]
  },
  {
   "cell_type": "code",
   "execution_count": 57,
   "metadata": {},
   "outputs": [
    {
     "name": "stdout",
     "output_type": "stream",
     "text": [
      "Wait,training .... Model2 in X2... \n",
      "Done\n",
      "Accuracy Model2 in X2: 0.619474643297577\n"
     ]
    }
   ],
   "source": [
    "accuracy1_5_x2 = model2_accuracy(X2,'X2')\n",
    "print(\"Accuracy Model2 in X2:\", accuracy)\n"
   ]
  },
  {
   "cell_type": "markdown",
   "metadata": {},
   "source": [
    "<h4>Performance 1.6.X --------- Model-3 in X2 </h4>"
   ]
  },
  {
   "cell_type": "code",
   "execution_count": 83,
   "metadata": {},
   "outputs": [
    {
     "name": "stdout",
     "output_type": "stream",
     "text": [
      "Accuracy for Model3 in X2: \n",
      "\n",
      " Default Tagger accuracy : 0.13525702141385765\n",
      "\n",
      " Unigram Tagger accuracy on : 0.9252791314413574\n",
      "\n",
      " Bigram Tagger accuracy on : 0.7951443684759597\n",
      "\n",
      " Trigram Tagger accuracy on : 0.7561670235983202\n",
      "\n",
      " RegEx Tagger accuracy on : 0.1989790189517438\n"
     ]
    }
   ],
   "source": [
    "print('Accuracy for Model3 in X2: ')\n",
    "\n",
    "size = int(len(X2_Brown) * 0.8)\n",
    "train_sents = X2_Brown[:size]\n",
    "test_sents = X2_Brown[size:]\n",
    "    \n",
    "accuracy1_6_1_x2= nltk.DefaultTagger('NN').evaluate(train_sents)\n",
    "accuracy1_6_2_x2= nltk.UnigramTagger(train_sents).evaluate(train_sents)\n",
    "accuracy1_6_3_x2 = nltk.BigramTagger(train_sents).evaluate(train_sents)\n",
    "accuracy1_6_4_x2 = nltk.TrigramTagger(train_sents).evaluate(train_sents)\n",
    "accuracy1_6_5_x2 = nltk.RegexpTagger(patterns).evaluate(train_sents)\n",
    "    \n",
    "    \n",
    "print(\"\\n Default Tagger accuracy :\" ,accuracy1_6_1_x2)\n",
    "print(\"\\n Unigram Tagger accuracy on :\",accuracy1_6_2_x2)\n",
    "print(\"\\n Bigram Tagger accuracy on :\",accuracy1_6_3_x2)\n",
    "print(\"\\n Trigram Tagger accuracy on :\",accuracy1_6_4_x2)\n",
    "print(\"\\n RegEx Tagger accuracy on :\",accuracy1_6_5_x2)"
   ]
  },
  {
   "cell_type": "markdown",
   "metadata": {},
   "source": [
    "<h2>Charts </h2>"
   ]
  },
  {
   "cell_type": "code",
   "execution_count": 91,
   "metadata": {},
   "outputs": [
    {
     "data": {
      "image/png": "[encoded data removed]",
      "text/plain": [
       "<matplotlib.figure.Figure at 0x1c9a9b440f0>"
      ]
     },
     "metadata": {},
     "output_type": "display_data"
    },
    {
     "data": {
      "text/plain": [
       "(array([0, 1, 2, 3, 4, 5, 6]), <a list of 7 Text xticklabel objects>)"
      ]
     },
     "execution_count": 91,
     "metadata": {},
     "output_type": "execute_result"
    },
    {
     "data": {
      "image/png": "[encoded data removed]",
      "text/plain": [
       "<matplotlib.figure.Figure at 0x1c9a28139b0>"
      ]
     },
     "metadata": {},
     "output_type": "display_data"
    }
   ],
   "source": [
    "\n",
    "import numpy as np\n",
    "import matplotlib.pyplot as plt\n",
    "import seaborn as sea\n",
    "import seaborn as sea1\n",
    " \n",
    "# data to plot\n",
    "n_groups = 2\n",
    "model1 = (accuracy1_1_x1, accuracy1_4_x2)\n",
    "model2 = (accuracy1_2_x1, accuracy1_5_x2)\n",
    " \n",
    "# create plot\n",
    "fig, ax = plt.subplots()\n",
    "index = np.arange(n_groups)\n",
    "bar_width = 0.35\n",
    "opacity = 0.8\n",
    " \n",
    "rects1 = plt.bar(index, model1, bar_width,alpha=opacity, color='b',label='Model1')\n",
    " \n",
    "rects2 = plt.bar(index + bar_width, model2, bar_width,alpha=opacity,color='g',label='Model2')\n",
    " \n",
    "plt.xlabel('Corpus')\n",
    "plt.ylabel('Performance')\n",
    "plt.title('Model1 vs Model2')\n",
    "plt.xticks(index + bar_width, ('Tree Bank', 'Brown'))\n",
    "plt.legend()\n",
    " \n",
    "plt.tight_layout()\n",
    "plt.show()\n",
    "\n",
    "\n",
    "x = ['My POS','NLTK POS','Default POS', 'Unigram POS', 'Bigram POS', 'Trigram POS', 'Regexp POS']\n",
    "y = [accuracy1_1_x1, accuracy1_2_x1, accuracy1_3_1_x1, accuracy1_3_2_x1, accuracy1_3_3_x1, accuracy1_3_4_x1, accuracy1_3_5_x1]\n",
    "sea.barplot(x, y)\n",
    "plt.title('Treebank Corpus')\n",
    "plt.xticks(rotation=45)\n"
   ]
  },
  {
   "cell_type": "code",
   "execution_count": 90,
   "metadata": {},
   "outputs": [
    {
     "data": {
      "text/plain": [
       "(array([0, 1, 2, 3, 4, 5, 6]), <a list of 7 Text xticklabel objects>)"
      ]
     },
     "execution_count": 90,
     "metadata": {},
     "output_type": "execute_result"
    },
    {
     "data": {
      "image/png": "[encoded data removed]",
      "text/plain": [
       "<matplotlib.figure.Figure at 0x1c9af7cdc88>"
      ]
     },
     "metadata": {},
     "output_type": "display_data"
    }
   ],
   "source": [
    "\n",
    "x1 = ['My POS','NLTK POS','Default POS', 'Unigram POS', 'Bigram POS', 'Trigram POS', 'Regexp POS']\n",
    "y1 = [accuracy1_4_x2, accuracy1_5_x2, accuracy1_6_1_x2, accuracy1_6_2_x2, accuracy1_6_3_x2, accuracy1_6_4_x2, accuracy1_6_5_x2]\n",
    "sea1.barplot(x1, y1)\n",
    "plt.title('Brown Corpus')\n",
    "plt.xticks(rotation=60)"
   ]
  },
  {
   "cell_type": "markdown",
   "metadata": {},
   "source": [
    "<h2> </h2>"
   ]
  },
  {
   "cell_type": "markdown",
   "metadata": {},
   "source": [
    "<h2>Task 02 </h2>\n",
    "\n",
    "<h4> Language Selected : Marathi </h4>"
   ]
  },
  {
   "cell_type": "code",
   "execution_count": 108,
   "metadata": {},
   "outputs": [],
   "source": [
    "marathi_numbers = [chr(0x0966), chr(0x0967), chr(0x0968), chr(0x0969), chr(0x096A),\n",
    "                   chr(0x096B), chr(0x096C), chr(0x096D), chr(0x096E), chr(0x096F)]\n",
    "\n",
    "def isNumberMarathi(word):\n",
    "    isNum = True\n",
    "    for i in list(word):\n",
    "        if i not in marathi_numbers:\n",
    "            isNum = False\n",
    "            break;\n",
    "    \n",
    "    return isNum\n",
    "\n",
    "    \n",
    "def marathi_features(sentence, index):\n",
    "    return {\n",
    "        'word': sentence[index],\n",
    "        'is_first': index == 0,\n",
    "        'is_last': index == len(sentence) - 1,\n",
    "        'prefix-1': sentence[index][0] if sentence[index] != '' else '',\n",
    "        'prefix-2': sentence[index][:2] if sentence[index] != '' else '',\n",
    "        'prefix-3': sentence[index][:3] if sentence[index] != '' else '',\n",
    "        'suffix-1': sentence[index][-1] if sentence[index] != '' else '',\n",
    "        'suffix-2': sentence[index][-2:] if sentence[index] != '' else '',\n",
    "        'suffix-3': sentence[index][-3:] if sentence[index] != '' else '',\n",
    "        'prev_word': '' if index == 0 else sentence[index - 1],\n",
    "        'next_word': '' if index == len(sentence) - 1 else sentence[index + 1],\n",
    "        'has_hyphen': '-' in sentence[index],\n",
    "        'is_numeric': sentence[index].isdigit() or isNumberMarathi(sentence[index])\n",
    "    }\n",
    "\n",
    "\n",
    "def untag(tagged_sentence):\n",
    "    return [w for w, t in tagged_sentence]\n",
    "\n",
    "\n",
    "cutoff = int(.75 * len(X3_Language))\n",
    "training_sentences = X3_Language[:cutoff]\n",
    "test_sentences = X3_Language[cutoff:]\n",
    " \n",
    "    \n",
    "    \n",
    "def transform_to_dataset_marathi(tagged_sentences):\n",
    "    X,y = [],[]\n",
    "    for tagged in tagged_sentences:\n",
    "        for index in range(len(tagged)):\n",
    "            X.append(marathi_features(untag(tagged), index))\n",
    "            y.append(tagged[index][1])\n",
    "\n",
    "    return X,y\n",
    "    \n",
    " \n",
    " \n",
    "X, y = transform_to_dataset_marathi(training_sentences)\n",
    "\n",
    "\n",
    "def model4_accuracy(tagged_sents, piece):\n",
    "    size = int(len(tagged_sents) * 0.8)\n",
    "    train_sents = tagged_sents[:size]\n",
    "    test_sents = tagged_sents[size:]\n",
    "    \n",
    "    X_train,y_train = transform_to_dataset_marathi(train_sents)\n",
    "    \n",
    "    print(\"Training \", piece, \"...\")\n",
    "    clf = Pipeline([\n",
    "        ('vectorizer', DictVectorizer(sparse=False)),\n",
    "        ('classifier', DecisionTreeClassifier(criterion='entropy'))\n",
    "    ])\n",
    "    clf.fit(X_train[:10000], y_train[:10000])\n",
    "    print(\"Training over\")\n",
    "    \n",
    "    X_test, y_test = transform_to_dataset_marathi(test_sents)\n",
    "    accuracy = clf.score(X_test, y_test)\n",
    "    \n",
    "    return accuracy\n"
   ]
  },
  {
   "cell_type": "code",
   "execution_count": 101,
   "metadata": {},
   "outputs": [
    {
     "data": {
      "text/plain": [
       "{'has_hyphen': False,\n",
       " 'is_first': False,\n",
       " 'is_last': False,\n",
       " 'is_numeric': False,\n",
       " 'next_word': '6',\n",
       " 'prefix-1': 'अ',\n",
       " 'prefix-2': 'अध',\n",
       " 'prefix-3': 'अध्',\n",
       " 'prev_word': 'महाराष्ट्र',\n",
       " 'suffix-1': 'ष',\n",
       " 'suffix-2': '्ष',\n",
       " 'suffix-3': 'क्ष',\n",
       " 'word': 'अध्यक्ष'}"
      ]
     },
     "execution_count": 101,
     "metadata": {},
     "output_type": "execute_result"
    }
   ],
   "source": [
    "marathi_features(['महाराष्ट्र', 'अध्यक्ष','6','(', 'यशवंत', 'होते'], 1)"
   ]
  },
  {
   "cell_type": "markdown",
   "metadata": {},
   "source": [
    "<h4>Performance 2.1 --------- Model-4 in X3 </h4> "
   ]
  },
  {
   "cell_type": "code",
   "execution_count": 109,
   "metadata": {},
   "outputs": [
    {
     "name": "stdout",
     "output_type": "stream",
     "text": [
      "Training  X3 ...\n",
      "Training over\n",
      "Accuracy for Model4 in X3:  0.747287642233395\n"
     ]
    }
   ],
   "source": [
    "accuracy = model4_accuracy(X3_Language, 'X3')\n",
    "print('Accuracy for Model4 in X3: ', accuracy)\n"
   ]
  },
  {
   "cell_type": "markdown",
   "metadata": {},
   "source": [
    "<h3> Model 5</h3>\n",
    "\n",
    "<h4> \n",
    "POS tagger model: RDRPOSTagger </h4>\n",
    "<h4>After trying n number of times couldnot find the work around to import RDRPOSTagger </h4>"
   ]
  },
  {
   "cell_type": "code",
   "execution_count": null,
   "metadata": {},
   "outputs": [],
   "source": [
    "import sys\n",
    "sys.path.insert(0, r'C:\\Megatron\\Jupyter\\RDRPOSTagger-python-3-master\\pSCRDRtagger')\n",
    "import RDRPOSTagger as rpt"
   ]
  }
 ],
 "metadata": {
  "kernelspec": {
   "display_name": "Python 3",
   "language": "python",
   "name": "python3"
  },
  "language_info": {
   "codemirror_mode": {
    "name": "ipython",
    "version": 3
   },
   "file_extension": ".py",
   "mimetype": "text/x-python",
   "name": "python",
   "nbconvert_exporter": "python",
   "pygments_lexer": "ipython3",
   "version": "3.6.4"
  }
 },
 "nbformat": 4,
 "nbformat_minor": 2
}
